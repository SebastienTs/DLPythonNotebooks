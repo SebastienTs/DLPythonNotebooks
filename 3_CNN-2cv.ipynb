{
 "cells": [
  {
   "cell_type": "code",
   "execution_count": 2,
   "metadata": {},
   "outputs": [],
   "source": [
    "import keras"
   ]
  },
  {
   "cell_type": "code",
   "execution_count": 3,
   "metadata": {},
   "outputs": [],
   "source": [
    "from keras.datasets import mnist\n",
    "(X_train0, y_train0), (X_test0, y_test0) = mnist.load_data()"
   ]
  },
  {
   "cell_type": "code",
   "execution_count": 4,
   "metadata": {},
   "outputs": [],
   "source": [
    "input_shape = (28, 28, 1)\n",
    "X_train = X_train0.reshape(X_train0.shape[0], 28, 28, 1)\n",
    "X_train = X_train.astype('float32')/255\n",
    "X_test = X_test0.reshape(X_test0.shape[0], 28, 28, 1)\n",
    "X_test = X_test.astype('float32')/255"
   ]
  },
  {
   "cell_type": "code",
   "execution_count": 23,
   "metadata": {},
   "outputs": [
    {
     "name": "stdout",
     "output_type": "stream",
     "text": [
      "_________________________________________________________________\n",
      "Layer (type)                 Output Shape              Param #   \n",
      "=================================================================\n",
      "conv2d_18 (Conv2D)           (None, 26, 26, 32)        320       \n",
      "_________________________________________________________________\n",
      "max_pooling2d_18 (MaxPooling (None, 13, 13, 32)        0         \n",
      "_________________________________________________________________\n",
      "conv2d_19 (Conv2D)           (None, 11, 11, 64)        18496     \n",
      "_________________________________________________________________\n",
      "max_pooling2d_19 (MaxPooling (None, 5, 5, 64)          0         \n",
      "_________________________________________________________________\n",
      "flatten_10 (Flatten)         (None, 1600)              0         \n",
      "_________________________________________________________________\n",
      "dense_19 (Dense)             (None, 128)               204928    \n",
      "_________________________________________________________________\n",
      "dense_20 (Dense)             (None, 10)                1290      \n",
      "=================================================================\n",
      "Total params: 225,034\n",
      "Trainable params: 225,034\n",
      "Non-trainable params: 0\n",
      "_________________________________________________________________\n"
     ]
    }
   ],
   "source": [
    "from keras import models\n",
    "from keras import layers\n",
    "model = models.Sequential()\n",
    "model.add(layers.Conv2D(32, kernel_size=(3, 3),activation='relu',input_shape=input_shape))\n",
    "model.add(layers.MaxPooling2D(pool_size=(2, 2)))\n",
    "model.add(layers.Conv2D(64, kernel_size=(3, 3),activation='relu',input_shape=input_shape))\n",
    "model.add(layers.MaxPooling2D(pool_size=(2, 2)))\n",
    "model.add(layers.Flatten())\n",
    "model.add(layers.Dense(128, activation='relu'))\n",
    "model.add(layers.Dense(10, activation='softmax'))\n",
    "model.summary()"
   ]
  },
  {
   "cell_type": "code",
   "execution_count": 24,
   "metadata": {},
   "outputs": [],
   "source": [
    "model.compile(loss=keras.losses.categorical_crossentropy,optimizer=keras.optimizers.Adadelta(),metrics=['accuracy'])"
   ]
  },
  {
   "cell_type": "code",
   "execution_count": 25,
   "metadata": {},
   "outputs": [],
   "source": [
    "from keras.utils import to_categorical\n",
    "y_train_cat = keras.utils.to_categorical(y_train0, 10)\n",
    "y_test_cat = keras.utils.to_categorical(y_test0, 10)"
   ]
  },
  {
   "cell_type": "code",
   "execution_count": 26,
   "metadata": {},
   "outputs": [
    {
     "name": "stdout",
     "output_type": "stream",
     "text": [
      "Epoch 1/20\n",
      "60000/60000 [==============================] - 45s 748us/step - loss: 0.1306 - acc: 0.9597\n",
      "Epoch 2/20\n",
      "60000/60000 [==============================] - 44s 732us/step - loss: 0.0409 - acc: 0.9870\n",
      "Epoch 3/20\n",
      "60000/60000 [==============================] - 45s 751us/step - loss: 0.0275 - acc: 0.9913\n",
      "Epoch 4/20\n",
      "60000/60000 [==============================] - 45s 752us/step - loss: 0.0209 - acc: 0.9933\n",
      "Epoch 5/20\n",
      "60000/60000 [==============================] - 45s 758us/step - loss: 0.0162 - acc: 0.9952\n",
      "Epoch 6/20\n",
      "60000/60000 [==============================] - 45s 758us/step - loss: 0.0129 - acc: 0.9961\n",
      "Epoch 7/20\n",
      "60000/60000 [==============================] - 46s 758us/step - loss: 0.0096 - acc: 0.9972\n",
      "Epoch 8/20\n",
      "60000/60000 [==============================] - 46s 759us/step - loss: 0.0072 - acc: 0.9977\n",
      "Epoch 9/20\n",
      "60000/60000 [==============================] - 46s 759us/step - loss: 0.0059 - acc: 0.9983\n",
      "Epoch 10/20\n",
      "60000/60000 [==============================] - 46s 760us/step - loss: 0.0043 - acc: 0.9988\n",
      "Epoch 11/20\n",
      "60000/60000 [==============================] - 46s 763us/step - loss: 0.0033 - acc: 0.9991\n",
      "Epoch 12/20\n",
      "60000/60000 [==============================] - 46s 769us/step - loss: 0.0021 - acc: 0.9994\n",
      "Epoch 13/20\n",
      "60000/60000 [==============================] - 46s 763us/step - loss: 0.0017 - acc: 0.9996\n",
      "Epoch 14/20\n",
      "60000/60000 [==============================] - 46s 763us/step - loss: 0.0016 - acc: 0.9996\n",
      "Epoch 15/20\n",
      "60000/60000 [==============================] - 46s 762us/step - loss: 0.0012 - acc: 0.9997\n",
      "Epoch 16/20\n",
      "60000/60000 [==============================] - 46s 765us/step - loss: 7.9251e-04 - acc: 0.9998\n",
      "Epoch 17/20\n",
      "60000/60000 [==============================] - 46s 766us/step - loss: 5.0801e-04 - acc: 0.9999\n",
      "Epoch 18/20\n",
      "60000/60000 [==============================] - 46s 766us/step - loss: 4.0869e-04 - acc: 0.9999\n",
      "Epoch 19/20\n",
      "60000/60000 [==============================] - 45s 745us/step - loss: 2.9608e-04 - acc: 1.0000\n",
      "Epoch 20/20\n",
      "60000/60000 [==============================] - 46s 765us/step - loss: 3.1852e-04 - acc: 1.0000\n"
     ]
    }
   ],
   "source": [
    "model_log = model.fit(X_train, y_train_cat,batch_size=32,epochs=20,verbose=1)"
   ]
  },
  {
   "cell_type": "code",
   "execution_count": 28,
   "metadata": {},
   "outputs": [
    {
     "name": "stdout",
     "output_type": "stream",
     "text": [
      "dict_keys(['loss', 'acc'])\n"
     ]
    },
    {
     "data": {
      "image/png": "[encoded data removed]",
      "text/plain": [
       "<Figure size 432x288 with 1 Axes>"
      ]
     },
     "metadata": {
      "needs_background": "light"
     },
     "output_type": "display_data"
    }
   ],
   "source": [
    "import matplotlib.pyplot as plt\n",
    "print(model_log.history.keys())\n",
    "plt.plot(model_log.history['accuracy'])\n",
    "plt.title('model accuracy')\n",
    "plt.ylabel('accuracy')\n",
    "plt.xlabel('epoch')\n",
    "plt.show()"
   ]
  },
  {
   "cell_type": "code",
   "execution_count": 29,
   "metadata": {},
   "outputs": [],
   "source": [
    "# serialize weights to HDF5\n",
    "model.save_weights(\"model_digit_2cv.h5\")"
   ]
  },
  {
   "cell_type": "code",
   "execution_count": 31,
   "metadata": {},
   "outputs": [],
   "source": [
    "model.load_weights(\"model_digit_2cv.h5\")"
   ]
  },
  {
   "cell_type": "code",
   "execution_count": 32,
   "metadata": {
    "scrolled": true
   },
   "outputs": [
    {
     "name": "stdout",
     "output_type": "stream",
     "text": [
      "10000/10000 [==============================] - 2s 232us/step\n",
      "Test loss: 0.046308814766192655\n",
      "Test accuracy: 0.9925\n"
     ]
    }
   ],
   "source": [
    "score = model.evaluate(X_test, y_test_cat, verbose=1)\n",
    "print('Test loss:', score[0])\n",
    "print('Test accuracy:', score[1])"
   ]
  },
  {
   "cell_type": "code",
   "execution_count": null,
   "metadata": {},
   "outputs": [],
   "source": []
  }
 ],
 "metadata": {
  "kernelspec": {
   "display_name": "Python 3",
   "language": "python",
   "name": "python3"
  },
  "language_info": {
   "codemirror_mode": {
    "name": "ipython",
    "version": 3
   },
   "file_extension": ".py",
   "mimetype": "text/x-python",
   "name": "python",
   "nbconvert_exporter": "python",
   "pygments_lexer": "ipython3",
   "version": "3.5.4"
  }
 },
 "nbformat": 4,
 "nbformat_minor": 2
}
