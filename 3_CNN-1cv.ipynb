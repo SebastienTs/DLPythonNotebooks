{
 "cells": [
  {
   "cell_type": "code",
   "execution_count": 1,
   "metadata": {},
   "outputs": [
    {
     "name": "stderr",
     "output_type": "stream",
     "text": [
      "Using TensorFlow backend.\n"
     ]
    }
   ],
   "source": [
    "import keras"
   ]
  },
  {
   "cell_type": "code",
   "execution_count": 2,
   "metadata": {},
   "outputs": [],
   "source": [
    "from keras.datasets import mnist\n",
    "(X_train0, y_train0), (X_test0, y_test0) = mnist.load_data()"
   ]
  },
  {
   "cell_type": "code",
   "execution_count": 3,
   "metadata": {},
   "outputs": [],
   "source": [
    "input_shape = (28, 28, 1)\n",
    "X_train = X_train0.reshape(X_train0.shape[0], 28, 28, 1)\n",
    "X_train = X_train.astype('float32')/255\n",
    "X_test = X_test0.reshape(X_test0.shape[0], 28, 28, 1)\n",
    "X_test = X_test.astype('float32')/255"
   ]
  },
  {
   "cell_type": "code",
   "execution_count": 4,
   "metadata": {},
   "outputs": [
    {
     "name": "stdout",
     "output_type": "stream",
     "text": [
      "_________________________________________________________________\n",
      "Layer (type)                 Output Shape              Param #   \n",
      "=================================================================\n",
      "conv2d_1 (Conv2D)            (None, 26, 26, 32)        320       \n",
      "_________________________________________________________________\n",
      "max_pooling2d_1 (MaxPooling2 (None, 13, 13, 32)        0         \n",
      "_________________________________________________________________\n",
      "flatten_1 (Flatten)          (None, 5408)              0         \n",
      "_________________________________________________________________\n",
      "dense_1 (Dense)              (None, 128)               692352    \n",
      "_________________________________________________________________\n",
      "dense_2 (Dense)              (None, 10)                1290      \n",
      "=================================================================\n",
      "Total params: 693,962\n",
      "Trainable params: 693,962\n",
      "Non-trainable params: 0\n",
      "_________________________________________________________________\n"
     ]
    }
   ],
   "source": [
    "from keras import models\n",
    "from keras import layers\n",
    "model = models.Sequential()\n",
    "model.add(layers.Conv2D(32, kernel_size=(3, 3),activation='relu',input_shape=input_shape))\n",
    "model.add(layers.MaxPooling2D(pool_size=(2, 2)))\n",
    "model.add(layers.Flatten())\n",
    "model.add(layers.Dense(128, activation='relu'))\n",
    "model.add(layers.Dense(10, activation='softmax'))\n",
    "model.summary()"
   ]
  },
  {
   "cell_type": "code",
   "execution_count": 5,
   "metadata": {},
   "outputs": [],
   "source": [
    "model.compile(loss=keras.losses.categorical_crossentropy,optimizer=keras.optimizers.Adam(),metrics=['accuracy'])"
   ]
  },
  {
   "cell_type": "code",
   "execution_count": 6,
   "metadata": {},
   "outputs": [],
   "source": [
    "from keras.utils import to_categorical\n",
    "y_train_cat = keras.utils.to_categorical(y_train0, 10)\n",
    "y_test_cat = keras.utils.to_categorical(y_test0, 10)"
   ]
  },
  {
   "cell_type": "code",
   "execution_count": 7,
   "metadata": {},
   "outputs": [
    {
     "name": "stdout",
     "output_type": "stream",
     "text": [
      "Epoch 1/20\n",
      "60000/60000 [==============================] - 42s 692us/step - loss: 0.1580 - acc: 0.9524\n",
      "Epoch 2/20\n",
      "60000/60000 [==============================] - 42s 705us/step - loss: 0.0535 - acc: 0.9842\n",
      "Epoch 3/20\n",
      "60000/60000 [==============================] - 43s 721us/step - loss: 0.0365 - acc: 0.9894\n",
      "Epoch 4/20\n",
      "60000/60000 [==============================] - 43s 720us/step - loss: 0.0260 - acc: 0.9923\n",
      "Epoch 5/20\n",
      "60000/60000 [==============================] - 43s 723us/step - loss: 0.0194 - acc: 0.9940\n",
      "Epoch 6/20\n",
      "60000/60000 [==============================] - 43s 722us/step - loss: 0.0137 - acc: 0.9959\n",
      "Epoch 7/20\n",
      "60000/60000 [==============================] - 43s 724us/step - loss: 0.0100 - acc: 0.9971\n",
      "Epoch 8/20\n",
      "60000/60000 [==============================] - 44s 726us/step - loss: 0.0072 - acc: 0.9981\n",
      "Epoch 9/20\n",
      "60000/60000 [==============================] - 44s 726us/step - loss: 0.0051 - acc: 0.9988\n",
      "Epoch 10/20\n",
      "60000/60000 [==============================] - 44s 726us/step - loss: 0.0036 - acc: 0.9991\n",
      "Epoch 11/20\n",
      "60000/60000 [==============================] - 44s 727us/step - loss: 0.0022 - acc: 0.9996\n",
      "Epoch 12/20\n",
      "60000/60000 [==============================] - 44s 727us/step - loss: 0.0017 - acc: 0.9997\n",
      "Epoch 13/20\n",
      "60000/60000 [==============================] - 44s 727us/step - loss: 0.0011 - acc: 0.9998\n",
      "Epoch 14/20\n",
      "60000/60000 [==============================] - 44s 727us/step - loss: 9.5357e-04 - acc: 0.9998\n",
      "Epoch 15/20\n",
      "60000/60000 [==============================] - 44s 729us/step - loss: 5.9218e-04 - acc: 0.9999\n",
      "Epoch 16/20\n",
      "60000/60000 [==============================] - 44s 728us/step - loss: 4.9456e-04 - acc: 0.9999\n",
      "Epoch 17/20\n",
      "60000/60000 [==============================] - 44s 728us/step - loss: 3.6382e-04 - acc: 1.0000\n",
      "Epoch 18/20\n",
      "60000/60000 [==============================] - 44s 727us/step - loss: 3.4516e-04 - acc: 1.0000\n",
      "Epoch 19/20\n",
      "60000/60000 [==============================] - 44s 727us/step - loss: 3.1926e-04 - acc: 1.0000\n",
      "Epoch 20/20\n",
      "60000/60000 [==============================] - 44s 727us/step - loss: 3.0266e-04 - acc: 1.0000\n"
     ]
    }
   ],
   "source": [
    "model_log = model.fit(X_train, y_train_cat,batch_size=32,epochs=20,verbose=1)"
   ]
  },
  {
   "cell_type": "code",
   "execution_count": 9,
   "metadata": {},
   "outputs": [
    {
     "name": "stdout",
     "output_type": "stream",
     "text": [
      "dict_keys(['loss', 'acc'])\n"
     ]
    },
    {
     "data": {
      "image/png": "[encoded data removed]",
      "text/plain": [
       "<Figure size 432x288 with 1 Axes>"
      ]
     },
     "metadata": {
      "needs_background": "light"
     },
     "output_type": "display_data"
    }
   ],
   "source": [
    "import matplotlib.pyplot as plt\n",
    "print(model_log.history.keys())\n",
    "plt.plot(model_log.history['accuracy'])\n",
    "plt.title('model accuracy')\n",
    "plt.ylabel('accuracy')\n",
    "plt.xlabel('epoch')\n",
    "plt.show()"
   ]
  },
  {
   "cell_type": "code",
   "execution_count": 10,
   "metadata": {},
   "outputs": [],
   "source": [
    "# serialize weights to HDF5\n",
    "model.save_weights(\"model_digit.h5\")"
   ]
  },
  {
   "cell_type": "code",
   "execution_count": 12,
   "metadata": {},
   "outputs": [],
   "source": [
    "model.load_weights(\"model_digit.h5\")"
   ]
  },
  {
   "cell_type": "code",
   "execution_count": 13,
   "metadata": {
    "scrolled": true
   },
   "outputs": [
    {
     "name": "stdout",
     "output_type": "stream",
     "text": [
      "10000/10000 [==============================] - 1s 148us/step\n",
      "Test loss: 0.061745492941975365\n",
      "Test accuracy: 0.9877\n"
     ]
    }
   ],
   "source": [
    "score = model.evaluate(X_test, y_test_cat, verbose=1)\n",
    "print('Test loss:', score[0])\n",
    "print('Test accuracy:', score[1])"
   ]
  },
  {
   "cell_type": "code",
   "execution_count": null,
   "metadata": {},
   "outputs": [],
   "source": []
  }
 ],
 "metadata": {
  "kernelspec": {
   "display_name": "Python 3",
   "language": "python",
   "name": "python3"
  },
  "language_info": {
   "codemirror_mode": {
    "name": "ipython",
    "version": 3
   },
   "file_extension": ".py",
   "mimetype": "text/x-python",
   "name": "python",
   "nbconvert_exporter": "python",
   "pygments_lexer": "ipython3",
   "version": "3.5.4"
  }
 },
 "nbformat": 4,
 "nbformat_minor": 2
}
